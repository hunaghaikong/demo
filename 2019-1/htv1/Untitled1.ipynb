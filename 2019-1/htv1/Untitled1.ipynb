{
 "cells": [
  {
   "cell_type": "code",
   "execution_count": null,
   "metadata": {},
   "outputs": [],
   "source": [
    "from sub_client import *\n",
    "\n",
    "sub_price=SubPrice('HSIH8')\n",
    "sub_price.sub()"
   ]
  },
  {
   "cell_type": "code",
   "execution_count": 140,
   "metadata": {},
   "outputs": [
    {
     "name": "stdout",
     "output_type": "stream",
     "text": [
      "30661.0 30663.0 30659.0 0.0\n"
     ]
    }
   ],
   "source": [
    "aaa=sub_price.get_price()\n",
    "#print(aaa.Bid)\n",
    "print(aaa.Ask,aaa.Bid,aaa.Last,aaa.Open)"
   ]
  },
  {
   "cell_type": "code",
   "execution_count": 34,
   "metadata": {},
   "outputs": [
    {
     "name": "stdout",
     "output_type": "stream",
     "text": [
      "<sp_struct.SPApiPrice object at 0x0000000006DB4148>\n",
      "<sp_struct.SPApiPrice object at 0x0000000006DB43C8>\n",
      "<sp_struct.SPApiPrice object at 0x0000000006DB4148>\n",
      "<sp_struct.SPApiPrice object at 0x0000000006DB43C8>\n",
      "<sp_struct.SPApiPrice object at 0x0000000006DB4148>\n",
      "<sp_struct.SPApiPrice object at 0x0000000006DB43C8>\n",
      "<sp_struct.SPApiPrice object at 0x0000000006DB4148>\n",
      "<sp_struct.SPApiPrice object at 0x0000000006DB43C8>\n",
      "<sp_struct.SPApiPrice object at 0x0000000006DB4148>\n",
      "<sp_struct.SPApiPrice object at 0x0000000006DB43C8>\n",
      "<sp_struct.SPApiPrice object at 0x0000000006DB4148>\n",
      "<sp_struct.SPApiPrice object at 0x0000000006DB43C8>\n",
      "<sp_struct.SPApiPrice object at 0x0000000006DB4148>\n",
      "<sp_struct.SPApiPrice object at 0x0000000006DB43C8>\n",
      "<sp_struct.SPApiPrice object at 0x0000000006DB4148>\n",
      "<sp_struct.SPApiPrice object at 0x0000000006DB43C8>\n",
      "<sp_struct.SPApiPrice object at 0x0000000006DB4148>\n",
      "<sp_struct.SPApiPrice object at 0x0000000006DB43C8>\n",
      "<sp_struct.SPApiPrice object at 0x0000000006DB4148>\n",
      "<sp_struct.SPApiPrice object at 0x0000000006DB43C8>\n",
      "<sp_struct.SPApiPrice object at 0x0000000006DB4148>\n",
      "<sp_struct.SPApiPrice object at 0x0000000006DB43C8>\n",
      "<sp_struct.SPApiPrice object at 0x0000000006DB4148>\n",
      "<sp_struct.SPApiPrice object at 0x0000000006DB43C8>\n",
      "<sp_struct.SPApiPrice object at 0x0000000006DB4148>\n",
      "<sp_struct.SPApiPrice object at 0x0000000006DB43C8>\n",
      "<sp_struct.SPApiPrice object at 0x0000000006DB4148>\n",
      "<sp_struct.SPApiPrice object at 0x0000000006DB43C8>\n",
      "<sp_struct.SPApiPrice object at 0x0000000006DB4148>\n",
      "<sp_struct.SPApiPrice object at 0x0000000006DB43C8>\n",
      "<sp_struct.SPApiPrice object at 0x0000000006DB4148>\n",
      "<sp_struct.SPApiPrice object at 0x0000000006DB43C8>\n",
      "<sp_struct.SPApiPrice object at 0x0000000006DB4148>\n",
      "<sp_struct.SPApiPrice object at 0x0000000006DB43C8>\n",
      "<sp_struct.SPApiPrice object at 0x0000000006DB4148>\n",
      "<sp_struct.SPApiPrice object at 0x0000000006DB43C8>\n",
      "<sp_struct.SPApiPrice object at 0x0000000006DB4148>\n",
      "<sp_struct.SPApiPrice object at 0x0000000006DB43C8>\n",
      "<sp_struct.SPApiPrice object at 0x0000000006DB4148>\n",
      "<sp_struct.SPApiPrice object at 0x0000000006DB43C8>\n",
      "<sp_struct.SPApiPrice object at 0x0000000006DB4148>\n",
      "<sp_struct.SPApiPrice object at 0x0000000006DB43C8>\n",
      "<sp_struct.SPApiPrice object at 0x0000000006DB4148>\n",
      "<sp_struct.SPApiPrice object at 0x0000000006DB43C8>\n",
      "<sp_struct.SPApiPrice object at 0x0000000006DB4148>\n",
      "<sp_struct.SPApiPrice object at 0x0000000006DB43C8>\n",
      "<sp_struct.SPApiPrice object at 0x0000000006DB4148>\n",
      "<sp_struct.SPApiPrice object at 0x0000000006DB43C8>\n",
      "<sp_struct.SPApiPrice object at 0x0000000006DB4148>\n",
      "<sp_struct.SPApiPrice object at 0x0000000006DB43C8>\n",
      "<sp_struct.SPApiPrice object at 0x0000000006DB4148>\n",
      "<sp_struct.SPApiPrice object at 0x0000000006DB43C8>\n",
      "<sp_struct.SPApiPrice object at 0x0000000006DB4148>\n",
      "<sp_struct.SPApiPrice object at 0x0000000006DB43C8>\n",
      "<sp_struct.SPApiPrice object at 0x0000000006DB4148>\n",
      "<sp_struct.SPApiPrice object at 0x0000000006DB43C8>\n",
      "<sp_struct.SPApiPrice object at 0x0000000006DB4148>\n",
      "<sp_struct.SPApiPrice object at 0x0000000006DB43C8>\n",
      "<sp_struct.SPApiPrice object at 0x0000000006DB4148>\n",
      "<sp_struct.SPApiPrice object at 0x0000000006DB43C8>\n",
      "<sp_struct.SPApiPrice object at 0x0000000006DB4148>\n",
      "<sp_struct.SPApiPrice object at 0x0000000006DB43C8>\n",
      "<sp_struct.SPApiPrice object at 0x0000000006DB4148>\n",
      "<sp_struct.SPApiPrice object at 0x0000000006DB43C8>\n",
      "<sp_struct.SPApiPrice object at 0x0000000006DB4148>\n",
      "<sp_struct.SPApiPrice object at 0x0000000006DB43C8>\n",
      "<sp_struct.SPApiPrice object at 0x0000000006DB4148>\n",
      "<sp_struct.SPApiPrice object at 0x0000000006DB43C8>\n",
      "<sp_struct.SPApiPrice object at 0x0000000006DB4148>\n",
      "<sp_struct.SPApiPrice object at 0x0000000006DB43C8>\n",
      "<sp_struct.SPApiPrice object at 0x0000000006DB4148>\n",
      "<sp_struct.SPApiPrice object at 0x0000000006DB43C8>\n",
      "<sp_struct.SPApiPrice object at 0x0000000006DB4148>\n",
      "<sp_struct.SPApiPrice object at 0x0000000006DB43C8>\n",
      "<sp_struct.SPApiPrice object at 0x0000000006DB4148>\n",
      "<sp_struct.SPApiPrice object at 0x0000000006DB43C8>\n",
      "<sp_struct.SPApiPrice object at 0x0000000006DB4148>\n",
      "<sp_struct.SPApiPrice object at 0x0000000006DB43C8>\n",
      "<sp_struct.SPApiPrice object at 0x0000000006DB4148>\n",
      "<sp_struct.SPApiPrice object at 0x0000000006DB43C8>\n",
      "<sp_struct.SPApiPrice object at 0x0000000006DB4148>\n",
      "<sp_struct.SPApiPrice object at 0x0000000006DB43C8>\n",
      "<sp_struct.SPApiPrice object at 0x0000000006DB4148>\n",
      "<sp_struct.SPApiPrice object at 0x0000000006DB43C8>\n",
      "<sp_struct.SPApiPrice object at 0x0000000006DB4148>\n",
      "<sp_struct.SPApiPrice object at 0x0000000006DB43C8>\n",
      "<sp_struct.SPApiPrice object at 0x0000000006DB4148>\n",
      "<sp_struct.SPApiPrice object at 0x0000000006DB43C8>\n",
      "<sp_struct.SPApiPrice object at 0x0000000006DB4148>\n",
      "<sp_struct.SPApiPrice object at 0x0000000006DB43C8>\n",
      "<sp_struct.SPApiPrice object at 0x0000000006DB4148>\n",
      "<sp_struct.SPApiPrice object at 0x0000000006DB43C8>\n",
      "<sp_struct.SPApiPrice object at 0x0000000006DB4148>\n",
      "<sp_struct.SPApiPrice object at 0x0000000006DB43C8>\n",
      "<sp_struct.SPApiPrice object at 0x0000000006DB4148>\n",
      "<sp_struct.SPApiPrice object at 0x0000000006DB43C8>\n",
      "<sp_struct.SPApiPrice object at 0x0000000006DB4148>\n",
      "<sp_struct.SPApiPrice object at 0x0000000006DB43C8>\n",
      "<sp_struct.SPApiPrice object at 0x0000000006DB4148>\n",
      "<sp_struct.SPApiPrice object at 0x0000000006DB43C8>\n",
      "<sp_struct.SPApiPrice object at 0x0000000006DB4148>\n",
      "<sp_struct.SPApiPrice object at 0x0000000006DB43C8>\n",
      "<sp_struct.SPApiPrice object at 0x0000000006DB4148>\n",
      "<sp_struct.SPApiPrice object at 0x0000000006DB43C8>\n",
      "<sp_struct.SPApiPrice object at 0x0000000006DB4148>\n"
     ]
    }
   ],
   "source": [
    "@SubPrice('HSIH8')\n",
    "def on_price(price):\n",
    "    print(price)\n",
    "on_price.start()"
   ]
  },
  {
   "cell_type": "code",
   "execution_count": 35,
   "metadata": {},
   "outputs": [
    {
     "name": "stdout",
     "output_type": "stream",
     "text": [
      "<sp_struct.SPApiPrice object at 0x0000000006DB43C8>\n"
     ]
    }
   ],
   "source": [
    "on_price.stop()"
   ]
  }
 ],
 "metadata": {
  "kernelspec": {
   "display_name": "Python 3",
   "language": "python",
   "name": "python3"
  },
  "language_info": {
   "codemirror_mode": {
    "name": "ipython",
    "version": 3
   },
   "file_extension": ".py",
   "mimetype": "text/x-python",
   "name": "python",
   "nbconvert_exporter": "python",
   "pygments_lexer": "ipython3",
   "version": "3.6.3"
  }
 },
 "nbformat": 4,
 "nbformat_minor": 2
}
