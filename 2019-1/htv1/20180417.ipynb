{
 "cells": [
  {
   "cell_type": "code",
   "execution_count": 1,
   "metadata": {},
   "outputs": [
    {
     "name": "stdout",
     "output_type": "stream",
     "text": [
      "import OK\n"
     ]
    }
   ],
   "source": [
    "import base64\n",
    "import htisec\n",
    "user=base64.b64decode(b'YWNoZWNj').decode()\n",
    "pwd=base64.b64decode(b'YjgyMDkxMQ==').decode()\n",
    "web1=htisec.htisec_web()\n",
    "txt=web1.login_1(user,pwd)"
   ]
  },
  {
   "cell_type": "code",
   "execution_count": 3,
   "metadata": {},
   "outputs": [
    {
     "data": {
      "text/plain": [
       "1"
      ]
     },
     "execution_count": 3,
     "metadata": {},
     "output_type": "execute_result"
    }
   ],
   "source": [
    "otp='116190'\n",
    "web1.login_2(txt,otp)"
   ]
  },
  {
   "cell_type": "code",
   "execution_count": 4,
   "metadata": {},
   "outputs": [
    {
     "data": {
      "text/plain": [
       "38"
      ]
     },
     "execution_count": 4,
     "metadata": {},
     "output_type": "execute_result"
    }
   ],
   "source": [
    "web1.login2_post.find(web1.url['risk'])"
   ]
  },
  {
   "cell_type": "code",
   "execution_count": 7,
   "metadata": {},
   "outputs": [
    {
     "data": {
      "text/plain": [
       "'\\r\\n\\r\\n\\r\\n\\r\\n\\r\\n<HTML>\\r\\n<HEAD>\\r\\n<base href=\"https://futures.htisec.com/wf/jsp/bottom_blank.jsp\">\\r\\n<TITLE>海通国际期货有限公司</TITLE>\\r\\n<META HTTP-EQUIV=\"CONTENT-TYPE\" CONTENT=\"text/html; charset=UTF-8\">\\r\\n<META HTTP-EQUIV=\"EXPIRES\" CONTENT=\"Thu,1 Jan 1970 00:00:01 GMT\">\\r\\n<META HTTP-EQUIV=\"CACHE-CONTROL\" CONTENT=\"NO-CACHE\">\\r\\n<META HTTP-EQUIV=\"PRAGMA\" CONTENT=\"NO-CACHE\">\\r\\n<link rel=\"STYLESHEET\" type=\"text/css\" href=\"../css/style.css\">\\r\\n<script language=\"JavaScript\">\\r\\n\\ttop.disableRight(document);\\r\\n</script>\\r\\n</HEAD>\\r\\n<BODY BGCOLOR=\"#FFFFFF\">\\r\\n<table border=0 width=990 cellspacing=0 cellpadding=0>\\r\\n\\r\\n</table>\\r\\n<br><br><br><br><br><br><br><br><br>\\r\\n<hr align=left width=990>\\r\\n<table border=0 width=800>\\r\\n<tr>\\r\\n\\t<Td>Copyright &copy; 2010 海通国际期货有限公司。版权所有 </td>\\r\\n\\t<Td align=right><a href=\"javascript:void(0);\" tabIndex=-1 onClick=\"top.popup_disclaimers_link();return false;\">免责声明</a> 及 <a href=\"javascript:void(0);\" tabIndex=-1 onClick=\"top.popup_privacy_policy_link();return false;\">个人资料私隐政策</a></td>\\r\\n</tr>\\r\\n</table>\\r\\n\\r\\n</BODY>\\r\\n</HTML>\\r\\n'"
      ]
     },
     "execution_count": 7,
     "metadata": {},
     "output_type": "execute_result"
    }
   ],
   "source": [
    "url=\"https://futures.htisec.com/wf/enquiryOrderList.do\"\n",
    "html=web1._s.get(url)\n",
    "html.text\n"
   ]
  },
  {
   "cell_type": "code",
   "execution_count": 6,
   "metadata": {},
   "outputs": [],
   "source": [
    "import sys\n",
    "app = QtWidgets.QApplication(sys.argv)\n",
    "w = MainWindow()\n"
   ]
  },
  {
   "cell_type": "code",
   "execution_count": null,
   "metadata": {
    "collapsed": true
   },
   "outputs": [],
   "source": []
  }
 ],
 "metadata": {
  "kernelspec": {
   "display_name": "Python 3",
   "language": "python",
   "name": "python3"
  },
  "language_info": {
   "codemirror_mode": {
    "name": "ipython",
    "version": 3
   },
   "file_extension": ".py",
   "mimetype": "text/x-python",
   "name": "python",
   "nbconvert_exporter": "python",
   "pygments_lexer": "ipython3",
   "version": "3.6.3"
  }
 },
 "nbformat": 4,
 "nbformat_minor": 2
}
